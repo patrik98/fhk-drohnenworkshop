{
 "cells": [
  {
   "cell_type": "markdown",
   "metadata": {},
   "source": [
    "# Erstes Programm \"Hello World\""
   ]
  },
  {
   "cell_type": "code",
   "execution_count": 1,
   "metadata": {},
   "outputs": [
    {
     "name": "stdout",
     "output_type": "stream",
     "text": [
      "Hello World\n"
     ]
    }
   ],
   "source": [
    "greeting = \"Hello World\"\n",
    "print(greeting)"
   ]
  },
  {
   "cell_type": "markdown",
   "metadata": {},
   "source": [
    "# Kommentare im Quellcode"
   ]
  },
  {
   "cell_type": "code",
   "execution_count": null,
   "metadata": {},
   "outputs": [],
   "source": [
    "# Python Kommentare:\n",
    "\n",
    "# Kommentar für die ganze Zeile\n",
    "a = 3 # Kommentar am Ende der Zeile"
   ]
  },
  {
   "cell_type": "markdown",
   "metadata": {},
   "source": [
    "# Variablen"
   ]
  },
  {
   "cell_type": "markdown",
   "metadata": {},
   "source": [
    "## Variablennamen\n",
    "\n",
    "- Ein Variablenname darf mit einem alphabetischen Zeichen (a-z, A-Z) oder einem Unterstrich beginnen\n",
    "- Der Variablenname darf ab der zweiten Stelle alphanumerische Zeichen (a-z, A-Z, 0-9) bzw. den Unterstrich enthalten"
   ]
  },
  {
   "cell_type": "code",
   "execution_count": null,
   "metadata": {},
   "outputs": [],
   "source": [
    "_var1 = \"some text\"\n",
    "BlaBla9 = 123\n",
    "Komma_Zahl = 32.32\n",
    "Truthy = True\n",
    "Nothing = None"
   ]
  },
  {
   "cell_type": "markdown",
   "metadata": {},
   "source": [
    "## Reservierte Wörter\n",
    "\n",
    "Reservierte Wörter können nicht als Variablennamen verwendet werden"
   ]
  },
  {
   "cell_type": "code",
   "execution_count": null,
   "metadata": {
    "scrolled": true
   },
   "outputs": [],
   "source": [
    "import keyword\n",
    "print(keyword.kwlist)"
   ]
  },
  {
   "cell_type": "markdown",
   "metadata": {},
   "source": [
    "# Einfache Datentypen"
   ]
  },
  {
   "cell_type": "code",
   "execution_count": null,
   "metadata": {},
   "outputs": [],
   "source": [
    "print(type(123))\n",
    "print(type(1.34))\n",
    "print(type(3j))\n",
    "print(type(True))\n",
    "print(type(\"hello\"))\n",
    "print(type(None))"
   ]
  },
  {
   "cell_type": "markdown",
   "metadata": {},
   "source": [
    "# Datentyp String"
   ]
  },
  {
   "cell_type": "markdown",
   "metadata": {},
   "source": [
    "## Einzeilige und mehrzeilige Strings"
   ]
  },
  {
   "cell_type": "code",
   "execution_count": null,
   "metadata": {},
   "outputs": [],
   "source": [
    "string1 = 'einzeilige Zeichenkette mit einfachen Anführungszeichen'\n",
    "string2 = \"einzeilige Zeichenkette mit doppelten Anführungszeichen\"\n",
    "string3 = '''\n",
    "mehrzeilige\n",
    "zeichen-\n",
    "kette\n",
    "'''\n",
    "string4 = \"\"\"\n",
    "mehrzeilige\n",
    "zeichen-\n",
    "kette\n",
    "\"\"\"\n",
    "\n",
    "print(len(string1))\n",
    "print(len(string2))\n",
    "print(len(string3))\n",
    "print(len(string4))"
   ]
  },
  {
   "cell_type": "markdown",
   "metadata": {},
   "source": [
    "## String Index und Teilstrings"
   ]
  },
  {
   "cell_type": "code",
   "execution_count": null,
   "metadata": {},
   "outputs": [],
   "source": [
    "str = \"ein string\"\n",
    "print(str[4])\n",
    "print(str[-10])\n",
    "print(str[4:7])\n",
    "print(str[4:-3])"
   ]
  },
  {
   "cell_type": "markdown",
   "metadata": {},
   "source": [
    "# Operationen"
   ]
  },
  {
   "cell_type": "markdown",
   "metadata": {},
   "source": [
    "## Arithmetische Operationen"
   ]
  },
  {
   "cell_type": "code",
   "execution_count": null,
   "metadata": {},
   "outputs": [],
   "source": [
    "a = 5\n",
    "b = 4\n",
    "c = -7\n",
    "d = 7\n",
    "\n",
    "print(a + 3)\n",
    "print(b + c)\n",
    "print(a - 3)\n",
    "print(a * a)\n",
    "print(d / 3)\n",
    "print(d % 3)\n",
    "print( d // 3)\n",
    "print(d ** 3)"
   ]
  },
  {
   "cell_type": "markdown",
   "metadata": {},
   "source": [
    "## Ausführungsreihenfolge"
   ]
  },
  {
   "cell_type": "code",
   "execution_count": null,
   "metadata": {},
   "outputs": [],
   "source": [
    "a =  10 +  20  *  30  / 10  # 70\n",
    "b = (10 +  20) *  30  / 10  # 90\n",
    "c =  10 + (20  *  30) / 10  # 70\n",
    "d = (10 +  20  *  30) / 10  # 61\n",
    "e =  10 +  20  * (30  / 10) # 70\n",
    "print(a, b, c, d, e)"
   ]
  },
  {
   "cell_type": "markdown",
   "metadata": {},
   "source": [
    "## Logische Operationen"
   ]
  },
  {
   "cell_type": "code",
   "execution_count": null,
   "metadata": {},
   "outputs": [],
   "source": [
    "A = True\n",
    "B = True\n",
    "C = False\n",
    "\n",
    "print(not A)\n",
    "print(A and B)\n",
    "print(A and C)\n",
    "print(A or B)\n",
    "print(A or C)\n",
    "print(True and B or not B)"
   ]
  },
  {
   "cell_type": "markdown",
   "metadata": {},
   "source": [
    "## Vergleichsoperationen"
   ]
  },
  {
   "cell_type": "code",
   "execution_count": null,
   "metadata": {},
   "outputs": [],
   "source": [
    "print(2 == 3)\n",
    "print(3 > 5)\n",
    "print(3 < 5)\n",
    "print(2 >= 2)\n",
    "print(5 <= 2)\n",
    "print(1 != 2)\n",
    "print(2 == 2 != 4)\n",
    "print(3 < 5 < 12 > 11)"
   ]
  },
  {
   "cell_type": "markdown",
   "metadata": {},
   "source": [
    "## Zuweisungsoperationen"
   ]
  },
  {
   "cell_type": "code",
   "execution_count": null,
   "metadata": {},
   "outputs": [],
   "source": [
    "a = 3\n",
    "print(a)\n",
    "\n",
    "a = a + 5\n",
    "print(a)\n",
    "\n",
    "a += 5\n",
    "print(a)\n",
    "\n",
    "a -= 2\n",
    "print(a)"
   ]
  },
  {
   "cell_type": "markdown",
   "metadata": {},
   "source": [
    "## Datentyp float\n",
    "\n",
    "`0.45 + 0.4 = 0.8500000000000001`"
   ]
  },
  {
   "cell_type": "code",
   "execution_count": null,
   "metadata": {},
   "outputs": [],
   "source": [
    "print(0.45 + 0.4)"
   ]
  },
  {
   "cell_type": "markdown",
   "metadata": {},
   "source": [
    "## Zugehörigkeitsoperation"
   ]
  },
  {
   "cell_type": "code",
   "execution_count": null,
   "metadata": {},
   "outputs": [],
   "source": [
    "print(\"c\"  in \"abcdefg\")\n",
    "print(\"de\" in \"abcdefg\")\n",
    "print(\"ed\" in \"abcdefg\")"
   ]
  },
  {
   "cell_type": "markdown",
   "metadata": {},
   "source": [
    "## Identitätsoperation"
   ]
  },
  {
   "cell_type": "code",
   "execution_count": null,
   "metadata": {},
   "outputs": [],
   "source": [
    "a = \"ab\"\n",
    "b = \"ab\"\n",
    "c = \"\".join([\"a\", \"b\"])\n",
    "\n",
    "print(a is b)\n",
    "print(a is c)\n",
    "print(a == b)\n",
    "print(a == c)\n",
    "\n",
    "print(id(a) == id(b), a is b)\n",
    "print(id(a) == id(c), a is c)"
   ]
  },
  {
   "cell_type": "markdown",
   "metadata": {},
   "source": [
    "# Typkonvertierung"
   ]
  },
  {
   "cell_type": "code",
   "execution_count": null,
   "metadata": {},
   "outputs": [],
   "source": [
    "a = \"10100\"\n",
    "b = \"2.334343\"\n",
    "c = \"no number\"\n",
    "\n",
    "c1 = int(a)               \n",
    "c2 = int(a, 2)            \n",
    "c3 = int(float(b))        \n",
    "c4 = int(c)               \n",
    "c5 = 2 + \" Versuche\"      \n",
    "c6 = str(2) + \" Versuche\""
   ]
  },
  {
   "cell_type": "markdown",
   "metadata": {},
   "source": [
    "# Kontrollstrukturen"
   ]
  },
  {
   "cell_type": "markdown",
   "metadata": {},
   "source": [
    "## IF/ELSE"
   ]
  },
  {
   "cell_type": "code",
   "execution_count": null,
   "metadata": {},
   "outputs": [],
   "source": [
    "guess = int(input(\"Rate die Zahl: \"))\n",
    "\n",
    "if guess == 42:\n",
    "    print(\"Super richtig geraten\")\n",
    "elif guess < 42:\n",
    "    print(\"Leider zu klein\")\n",
    "else:\n",
    "    print(\"Leider zu groß\")"
   ]
  },
  {
   "cell_type": "markdown",
   "metadata": {},
   "source": [
    "## Ternärer Operator"
   ]
  },
  {
   "cell_type": "markdown",
   "metadata": {},
   "source": [
    "### Langform: IF/ELSE"
   ]
  },
  {
   "cell_type": "code",
   "execution_count": null,
   "metadata": {},
   "outputs": [],
   "source": [
    "today = 'FRIDAY'\n",
    "\n",
    "if today == 'SUNDAY':\n",
    "    opening_time = 12\n",
    "else:\n",
    "    opening_time = 9"
   ]
  },
  {
   "cell_type": "markdown",
   "metadata": {},
   "source": [
    "### Kurzform: Ternärer Operator"
   ]
  },
  {
   "cell_type": "code",
   "execution_count": null,
   "metadata": {},
   "outputs": [],
   "source": [
    "opening_time = 12 if today == 'SUNDAY' else 9    "
   ]
  },
  {
   "cell_type": "markdown",
   "metadata": {},
   "source": [
    "## WHILE Schleife"
   ]
  },
  {
   "cell_type": "code",
   "execution_count": null,
   "metadata": {},
   "outputs": [],
   "source": [
    "secret = 42\n",
    "guess = 0\n",
    "\n",
    "while guess != secret:\n",
    "    guess = int(input(\"Rate die Zahl: \"))\n",
    "\n",
    "print(\"Super die Zahl wurde erraten!\")"
   ]
  },
  {
   "cell_type": "markdown",
   "metadata": {},
   "source": [
    "## Schleifensteuerung: continue und break"
   ]
  },
  {
   "cell_type": "code",
   "execution_count": null,
   "metadata": {},
   "outputs": [],
   "source": [
    "secret = 42\n",
    "while True:\n",
    "    guess = int(input(\"Rate die Zahl: \"))\n",
    "    if guess == secret:\n",
    "        break\n",
    "\n",
    "print(\"Super die Zahl wurde erraten!\")"
   ]
  },
  {
   "cell_type": "markdown",
   "metadata": {},
   "source": [
    "## Interpretation von Wahrheitswerten (Booleans) in Python"
   ]
  },
  {
   "cell_type": "code",
   "execution_count": null,
   "metadata": {},
   "outputs": [],
   "source": [
    "if 42:   print(\"42\")         # 42\n",
    "if 0.0:  print(\"0.0\")\n",
    "if 0.01: print(\"0.01\")       # 0.01\n",
    "if \"\":   print(\"Leerstring\")\n",
    "if \"hi\": print(\"hi\")         # hi\n",
    "if None: print(\"None\")\n"
   ]
  },
  {
   "cell_type": "markdown",
   "metadata": {},
   "source": [
    "# Einige built-in Funktionen"
   ]
  },
  {
   "cell_type": "code",
   "execution_count": null,
   "metadata": {},
   "outputs": [],
   "source": [
    "print(len(\"abcdefgh\"))\n",
    "print(min(4, 2, 3, 5))\n",
    "print(max(4, 2, 3, 5))\n",
    "print(round(4.324234))\n",
    "print(abs(-10))\n",
    "print(type(\"ein string\"))"
   ]
  },
  {
   "cell_type": "markdown",
   "metadata": {},
   "source": [
    "# Links\n",
    "\n",
    "- Python 3 Schlüsselwörter: https://docs.python.org/3/reference/lexical_analysis.html#keywords\n",
    "- Liste der built-in Funktionen: https://docs.python.org/3/library/functions.html\n",
    "- Ausführungsreihenfolge und Rang von Operatoren: https://docs.python.org/3/reference/expressions.html#evaluation-order"
   ]
  },
  {
   "cell_type": "markdown",
   "metadata": {},
   "source": [
    "# Einfache Funktion"
   ]
  },
  {
   "cell_type": "code",
   "execution_count": null,
   "metadata": {},
   "outputs": [
    {
     "name": "stdout",
     "output_type": "stream",
     "text": [
      "hello world!\n",
      "hello students!\n"
     ]
    }
   ],
   "source": [
    "def say_hello(name=\"world\"):\n",
    "    print(\"hello \" + name + \"!\")\n",
    "\n",
    "say_hello()          \n",
    "say_hello(\"students\")"
   ]
  },
  {
   "cell_type": "markdown",
   "metadata": {},
   "source": [
    "# Einfache Funktion mit lokaler Variable und Rückgabewert"
   ]
  },
  {
   "cell_type": "code",
   "execution_count": null,
   "metadata": {},
   "outputs": [
    {
     "name": "stdout",
     "output_type": "stream",
     "text": [
      "hello students!\n"
     ]
    }
   ],
   "source": [
    "def create_hello(name=\"world\"):\n",
    "    hello = \"hello \" + name + \"!\"\n",
    "    return hello\n",
    "\n",
    "result = create_hello(\"students\")\n",
    "print(result) "
   ]
  },
  {
   "cell_type": "markdown",
   "metadata": {},
   "source": [
    "# Parameterübergabe über Schlüsselwörter"
   ]
  },
  {
   "cell_type": "code",
   "execution_count": null,
   "metadata": {},
   "outputs": [
    {
     "name": "stdout",
     "output_type": "stream",
     "text": [
      "hello world!\n",
      "hello world!!!\n",
      "good evening students!\n"
     ]
    }
   ],
   "source": [
    "def say_hello(greeting=\"hello\", name=\"world\", end=\"!\"):\n",
    "    print(greeting + \" \" + name + end)\n",
    "\n",
    "say_hello()                         \n",
    "say_hello(end=\"!!!\")                \n",
    "say_hello(name=\"students\", greeting=\"good evening\")"
   ]
  },
  {
   "cell_type": "markdown",
   "metadata": {},
   "source": [
    "# Geltungsbereich (Scope) von Variablen"
   ]
  },
  {
   "cell_type": "markdown",
   "metadata": {},
   "source": [
    "## Lesender Zugriff auf globale Variable"
   ]
  },
  {
   "cell_type": "code",
   "execution_count": null,
   "metadata": {},
   "outputs": [
    {
     "name": "stdout",
     "output_type": "stream",
     "text": [
      "20\n",
      "10\n"
     ]
    }
   ],
   "source": [
    "a = 10\n",
    "def add():\n",
    "    b = a + 10\n",
    "    print(b)\n",
    "\n",
    "add()\n",
    "print(a) "
   ]
  },
  {
   "cell_type": "markdown",
   "metadata": {},
   "source": [
    "## Lokale und globale Variable mit gleichem Bezeichner"
   ]
  },
  {
   "cell_type": "code",
   "execution_count": null,
   "metadata": {},
   "outputs": [
    {
     "name": "stdout",
     "output_type": "stream",
     "text": [
      "30\n",
      "10\n"
     ]
    }
   ],
   "source": [
    "a = 10\n",
    "def add():\n",
    "    a = 20\n",
    "    b = a + 10\n",
    "    print(b)\n",
    "\n",
    "add()\n",
    "print(a)\n"
   ]
  },
  {
   "cell_type": "markdown",
   "metadata": {},
   "source": [
    "## Beispiel für einen UnboundLocalError"
   ]
  },
  {
   "cell_type": "code",
   "execution_count": null,
   "metadata": {},
   "outputs": [
    {
     "ename": "UnboundLocalError",
     "evalue": "local variable 'a' referenced before assignment",
     "output_type": "error",
     "traceback": [
      "\u001b[1;31m---------------------------------------------------------------------------\u001b[0m\n",
      "\u001b[1;31mUnboundLocalError\u001b[0m                         Traceback (most recent call last)\n",
      "\u001b[1;32m<ipython-input-6-8bc9d36a24d0>\u001b[0m in \u001b[0;36m<module>\u001b[1;34m\u001b[0m\n",
      "\u001b[0;32m      5\u001b[0m     \u001b[0mprint\u001b[0m\u001b[1;33m(\u001b[0m\u001b[0mb\u001b[0m\u001b[1;33m)\u001b[0m\u001b[1;33m\u001b[0m\u001b[1;33m\u001b[0m\u001b[0m\n",
      "\u001b[0;32m      6\u001b[0m \u001b[1;33m\u001b[0m\u001b[0m\n",
      "\u001b[1;32m----> 7\u001b[1;33m \u001b[0madd\u001b[0m\u001b[1;33m(\u001b[0m\u001b[1;33m)\u001b[0m\u001b[1;33m\u001b[0m\u001b[1;33m\u001b[0m\u001b[0m\n",
      "\u001b[0m\n",
      "\u001b[1;32m<ipython-input-6-8bc9d36a24d0>\u001b[0m in \u001b[0;36madd\u001b[1;34m()\u001b[0m\n",
      "\u001b[0;32m      1\u001b[0m \u001b[0ma\u001b[0m \u001b[1;33m=\u001b[0m \u001b[1;36m10\u001b[0m\u001b[1;33m\u001b[0m\u001b[1;33m\u001b[0m\u001b[0m\n",
      "\u001b[0;32m      2\u001b[0m \u001b[1;32mdef\u001b[0m \u001b[0madd\u001b[0m\u001b[1;33m(\u001b[0m\u001b[1;33m)\u001b[0m\u001b[1;33m:\u001b[0m\u001b[1;33m\u001b[0m\u001b[1;33m\u001b[0m\u001b[0m\n",
      "\u001b[1;32m----> 3\u001b[1;33m     \u001b[0ma\u001b[0m \u001b[1;33m=\u001b[0m \u001b[0ma\u001b[0m \u001b[1;33m+\u001b[0m \u001b[1;36m20\u001b[0m\u001b[1;33m\u001b[0m\u001b[1;33m\u001b[0m\u001b[0m\n",
      "\u001b[0m\u001b[0;32m      4\u001b[0m     \u001b[0mb\u001b[0m \u001b[1;33m=\u001b[0m \u001b[0ma\u001b[0m \u001b[1;33m+\u001b[0m \u001b[1;36m10\u001b[0m\u001b[1;33m\u001b[0m\u001b[1;33m\u001b[0m\u001b[0m\n",
      "\u001b[0;32m      5\u001b[0m     \u001b[0mprint\u001b[0m\u001b[1;33m(\u001b[0m\u001b[0mb\u001b[0m\u001b[1;33m)\u001b[0m\u001b[1;33m\u001b[0m\u001b[1;33m\u001b[0m\u001b[0m\n",
      "\n",
      "\u001b[1;31mUnboundLocalError\u001b[0m: local variable 'a' referenced before assignment"
     ]
    }
   ],
   "source": [
    "a = 10\n",
    "def add():\n",
    "    a = a + 20\n",
    "    b = a + 10\n",
    "    print(b)\n",
    "\n",
    "add()    "
   ]
  },
  {
   "cell_type": "markdown",
   "metadata": {},
   "source": [
    "# FOR Schleife"
   ]
  },
  {
   "cell_type": "markdown",
   "metadata": {},
   "source": [
    "## Erstes Beispiel"
   ]
  },
  {
   "cell_type": "code",
   "execution_count": null,
   "metadata": {},
   "outputs": [
    {
     "name": "stdout",
     "output_type": "stream",
     "text": [
      "a\n",
      "b\n",
      "c\n",
      "d\n",
      "a\n",
      "b\n",
      "c\n",
      "d\n"
     ]
    }
   ],
   "source": [
    "for char in \"abcd\":\n",
    "    print(char)\n",
    "\n",
    "for item in ('a', 'b', 'c', 'd'):\n",
    "    print(item)"
   ]
  },
  {
   "cell_type": "markdown",
   "metadata": {},
   "source": [
    "## Range Funktion"
   ]
  },
  {
   "cell_type": "code",
   "execution_count": null,
   "metadata": {},
   "outputs": [
    {
     "name": "stdout",
     "output_type": "stream",
     "text": [
      "10 12 14 16 18 20 \n"
     ]
    }
   ],
   "source": [
    "numbers = \"\"\n",
    "for i in range(10, 21, 2):\n",
    "    numbers += str(i) + \" \"\n",
    "print(numbers)"
   ]
  },
  {
   "cell_type": "markdown",
   "metadata": {},
   "source": [
    "# Zusammengesetzte Datenstrukturen"
   ]
  },
  {
   "cell_type": "markdown",
   "metadata": {},
   "source": [
    "## Listen"
   ]
  },
  {
   "cell_type": "code",
   "execution_count": null,
   "metadata": {},
   "outputs": [
    {
     "name": "stdout",
     "output_type": "stream",
     "text": [
      "b\n",
      "2\n",
      "4\n"
     ]
    }
   ],
   "source": [
    "my_list = ['a', 'b', 3, ['sub', 'list']]\n",
    "\n",
    "print(my_list[1])\n",
    "\n",
    "my_list[1] = 2\n",
    "\n",
    "print(my_list[1]) \n",
    "\n",
    "print(len(my_list))"
   ]
  },
  {
   "cell_type": "markdown",
   "metadata": {},
   "source": [
    "## Listen Operationen"
   ]
  },
  {
   "cell_type": "code",
   "execution_count": null,
   "metadata": {},
   "outputs": [
    {
     "name": "stdout",
     "output_type": "stream",
     "text": [
      "['a', 'b']\n",
      "['a', 'b', 'x']\n",
      "['x', 'b', 'a']\n",
      "['x', 'y', 'b', 'a']\n",
      "['x', 'y', 'b']\n",
      "[]\n",
      "['a', 'b', 'c', 'd']\n",
      "['a', 'b', 'a', 'b']\n"
     ]
    }
   ],
   "source": [
    "data = ['a', 'b', 'c']\n",
    "\n",
    "data.remove('c')\n",
    "print(data)\n",
    "\n",
    "data.append('x')\n",
    "print(data)\n",
    "\n",
    "data.reverse()\n",
    "print(data)\n",
    "\n",
    "data.insert(1, 'y')\n",
    "print(data)\n",
    "\n",
    "data.pop(-1)        \n",
    "print(data)\n",
    "\n",
    "data.clear()\n",
    "print(data)\n",
    "\n",
    "data1 = ['a', 'b']\n",
    "data2 = ['c', 'd']\n",
    "\n",
    "print(data1 + data2)\n",
    "print(data1 * 2)    "
   ]
  },
  {
   "cell_type": "markdown",
   "metadata": {},
   "source": [
    "## Slicing"
   ]
  },
  {
   "cell_type": "code",
   "execution_count": null,
   "metadata": {},
   "outputs": [
    {
     "name": "stdout",
     "output_type": "stream",
     "text": [
      "['a', 'b']\n",
      "['a', 'b']\n",
      "['b', 'c', 'd', 'e']\n",
      "['b', 'c', 'd', 'e']\n",
      "['b', 'c', 'd', 'e']\n",
      "['a', 'c', 'e']\n",
      "e\n"
     ]
    }
   ],
   "source": [
    "data = ['a', 'b', 'c', 'd', 'e']\n",
    "\n",
    "# Alle Elemente bis exklusive Index 2\n",
    "print(data[:2])\n",
    "print(data[0:2])\n",
    "\n",
    "# Alle Elemente von inklusive Index 1 bis zum Ende\n",
    "print(data[1:5])\n",
    "print(data[1:])\n",
    "print(data[1:999999]) # führt zu keinem Fehler\n",
    "\n",
    "# jedes 2. Element\n",
    "print(data[::2])\n",
    "\n",
    "# Das letzte Element\n",
    "print(data[-1])"
   ]
  },
  {
   "cell_type": "markdown",
   "metadata": {},
   "source": [
    "## Weitere Slicing Operationen"
   ]
  },
  {
   "cell_type": "code",
   "execution_count": null,
   "metadata": {},
   "outputs": [
    {
     "name": "stdout",
     "output_type": "stream",
     "text": [
      "['a', 'b']\n",
      "['a', 'b', 'x']\n",
      "['x', 'b', 'a']\n",
      "[]\n"
     ]
    }
   ],
   "source": [
    "data = ['a', 'b', 'c']\n",
    "\n",
    "del data[2]\n",
    "print(data)\n",
    "\n",
    "data[len(data):] = ['x']\n",
    "print(data)\n",
    "\n",
    "print(data[::-1])\n",
    "\n",
    "del data[:]\n",
    "print(data)"
   ]
  },
  {
   "cell_type": "markdown",
   "metadata": {},
   "source": [
    "## Grundlegende Datenstrukturen mit Listen"
   ]
  },
  {
   "cell_type": "markdown",
   "metadata": {},
   "source": [
    "### Stack (LIFO)"
   ]
  },
  {
   "cell_type": "code",
   "execution_count": null,
   "metadata": {},
   "outputs": [
    {
     "name": "stdout",
     "output_type": "stream",
     "text": [
      "['a', 'b']\n",
      "['a']\n"
     ]
    }
   ],
   "source": [
    "data = []\n",
    "data.append('a')\n",
    "data.append('b')\n",
    "\n",
    "print(data)\n",
    "\n",
    "data.pop()\n",
    "print(data)  "
   ]
  },
  {
   "cell_type": "markdown",
   "metadata": {},
   "source": [
    "### Queue (FIFO)"
   ]
  },
  {
   "cell_type": "code",
   "execution_count": null,
   "metadata": {},
   "outputs": [
    {
     "name": "stdout",
     "output_type": "stream",
     "text": [
      "['b', 'a']\n",
      "['b']\n"
     ]
    }
   ],
   "source": [
    "data = []\n",
    "data.insert(0, 'a')\n",
    "data.insert(0, 'b')\n",
    "\n",
    "print(data)\n",
    "\n",
    "data.pop()\n",
    "print(data)"
   ]
  },
  {
   "cell_type": "markdown",
   "metadata": {},
   "source": [
    "## Iteration durch Listen"
   ]
  },
  {
   "cell_type": "code",
   "execution_count": null,
   "metadata": {},
   "outputs": [
    {
     "name": "stdout",
     "output_type": "stream",
     "text": [
      "a\n",
      "b\n",
      "c\n",
      "0: a\n",
      "1: b\n",
      "2: c\n"
     ]
    }
   ],
   "source": [
    "for my_item in ['a', 'b', 'c']:\n",
    "    print(my_item)\n",
    "\n",
    "for idx, item in enumerate(['a', 'b', 'c']):\n",
    "    print(str(idx) + \": \" + item)"
   ]
  },
  {
   "cell_type": "markdown",
   "metadata": {},
   "source": [
    "## Mehrdimensionale Listen"
   ]
  },
  {
   "cell_type": "code",
   "execution_count": null,
   "metadata": {},
   "outputs": [
    {
     "name": "stdout",
     "output_type": "stream",
     "text": [
      "    A   B   C\n",
      "  +---+---+---+\n",
      "1 |   | X | O |\n",
      "  +---+---+---+\n",
      "2 | X | O |   |\n",
      "  +---+---+---+\n",
      "3 |   | X |   |\n",
      "  +---+---+---+\n",
      "\n"
     ]
    }
   ],
   "source": [
    "data = [\n",
    "    [' ', 'X', 'O'],\n",
    "    ['X', 'O', ' '],\n",
    "    [' ', 'X', ' ']\n",
    "]\n",
    "\n",
    "game_board = \"    A   B   C\\n\"\n",
    "for row in range(3):\n",
    "    game_board += \"  +---+---+---+\\n\"\n",
    "    game_board += str(row+1)\n",
    "    for col in range(3):\n",
    "        game_board += \" | \" + data[row][col]\n",
    "    game_board += \" |\\n\"\n",
    "game_board += \"  +---+---+---+\\n\"\n",
    "\n",
    "print(game_board)"
   ]
  },
  {
   "cell_type": "markdown",
   "metadata": {},
   "source": [
    "## Tuple"
   ]
  },
  {
   "cell_type": "code",
   "execution_count": null,
   "metadata": {},
   "outputs": [
    {
     "name": "stdout",
     "output_type": "stream",
     "text": [
      "b b\n",
      "3 3\n"
     ]
    }
   ],
   "source": [
    "my_tuple = ('a', 'b', 1)\n",
    "same_tuple = 'a', 'b', 1\n",
    "print(my_tuple[1], same_tuple[1])\n",
    "print(len(my_tuple), len(same_tuple)) "
   ]
  },
  {
   "cell_type": "markdown",
   "metadata": {},
   "source": [
    "### Tuple sind immutable "
   ]
  },
  {
   "cell_type": "code",
   "execution_count": null,
   "metadata": {},
   "outputs": [
    {
     "ename": "TypeError",
     "evalue": "'tuple' object does not support item assignment",
     "output_type": "error",
     "traceback": [
      "\u001b[1;31m---------------------------------------------------------------------------\u001b[0m\n",
      "\u001b[1;31mTypeError\u001b[0m                                 Traceback (most recent call last)\n",
      "\u001b[1;32m<ipython-input-23-c57491fe0548>\u001b[0m in \u001b[0;36m<module>\u001b[1;34m\u001b[0m\n",
      "\u001b[0;32m      1\u001b[0m \u001b[0mtuple\u001b[0m \u001b[1;33m=\u001b[0m \u001b[1;33m(\u001b[0m\u001b[1;34m'a'\u001b[0m\u001b[1;33m,\u001b[0m \u001b[1;34m'b'\u001b[0m\u001b[1;33m,\u001b[0m \u001b[1;34m'c'\u001b[0m\u001b[1;33m)\u001b[0m\u001b[1;33m\u001b[0m\u001b[1;33m\u001b[0m\u001b[0m\n",
      "\u001b[1;32m----> 2\u001b[1;33m \u001b[0mtuple\u001b[0m\u001b[1;33m[\u001b[0m\u001b[1;36m0\u001b[0m\u001b[1;33m]\u001b[0m \u001b[1;33m=\u001b[0m \u001b[1;34m'e'\u001b[0m\u001b[1;33m\u001b[0m\u001b[1;33m\u001b[0m\u001b[0m\n",
      "\u001b[0m\n",
      "\u001b[1;31mTypeError\u001b[0m: 'tuple' object does not support item assignment"
     ]
    }
   ],
   "source": [
    "tuple = ('a', 'b', 'c')\n",
    "tuple[0] = 'e'"
   ]
  },
  {
   "cell_type": "markdown",
   "metadata": {},
   "source": [
    "### Tuple können mutable Datenstrukturen enthalten"
   ]
  },
  {
   "cell_type": "code",
   "execution_count": null,
   "metadata": {},
   "outputs": [],
   "source": [
    "tuple = ('blub', ['b', 'a'])\n",
    "tuple[1][0] = 'c'"
   ]
  },
  {
   "cell_type": "markdown",
   "metadata": {},
   "source": [
    "## Sets"
   ]
  },
  {
   "cell_type": "code",
   "execution_count": null,
   "metadata": {},
   "outputs": [
    {
     "name": "stdout",
     "output_type": "stream",
     "text": [
      "{1, 2, 3, 4, 5, 6}\n",
      "{3, 4}\n",
      "{1, 2}\n",
      "{5, 6}\n",
      "{1, 2, 5, 6}\n"
     ]
    }
   ],
   "source": [
    "A = {1, 2, 3, 4}\n",
    "B = {3, 4, 5, 6}\n",
    "print(A | B)\n",
    "print(A & B)\n",
    "print(A - B)\n",
    "print(B - A)\n",
    "print(A ^ B) "
   ]
  },
  {
   "cell_type": "markdown",
   "metadata": {},
   "source": [
    "## Dictionaries"
   ]
  },
  {
   "cell_type": "code",
   "execution_count": null,
   "metadata": {},
   "outputs": [
    {
     "name": "stdout",
     "output_type": "stream",
     "text": [
      "123\n",
      "a\n",
      "changed\n"
     ]
    }
   ],
   "source": [
    "my_dict = { 'one' : 123 , 'two' : '2', 3 : ['a', 'b'] }\n",
    "print(my_dict['one'])\n",
    "print(my_dict[3][0])\n",
    "my_dict['one'] = 'changed'\n",
    "print(my_dict['one']) "
   ]
  },
  {
   "cell_type": "code",
   "execution_count": null,
   "metadata": {},
   "outputs": [
    {
     "name": "stdout",
     "output_type": "stream",
     "text": [
      "3\n",
      "4\n"
     ]
    }
   ],
   "source": [
    "print(len(my_dict))\n",
    "my_dict['new'] = 'hello'\n",
    "print(len(my_dict))"
   ]
  },
  {
   "cell_type": "markdown",
   "metadata": {},
   "source": [
    "## Iteration durch Dictionaries"
   ]
  },
  {
   "cell_type": "code",
   "execution_count": null,
   "metadata": {
    "scrolled": true
   },
   "outputs": [
    {
     "name": "stdout",
     "output_type": "stream",
     "text": [
      "Name: Peter, Alter: 25\n",
      "Name: Hilde, Alter: 31\n",
      "Name: Bruno, Alter: 45\n",
      "Name: Peter, Alter: 25\n",
      "Name: Hilde, Alter: 31\n",
      "Name: Bruno, Alter: 45\n"
     ]
    }
   ],
   "source": [
    "names = {'Peter': 25, 'Hilde': 31, 'Bruno': 45}\n",
    "\n",
    "for key in names:\n",
    "    print(\"Name: \" + key + \", Alter: \" + str(names[key]))\n",
    "\n",
    "for key, value in names.items():\n",
    "    print(\"Name: \" + key + \", Alter: \" + str(value))"
   ]
  },
  {
   "cell_type": "markdown",
   "metadata": {},
   "source": [
    "## Funktionen mit variablen Argumenten"
   ]
  },
  {
   "attachments": {},
   "cell_type": "markdown",
   "metadata": {},
   "source": [
    "### Unbenannte Argumente über *"
   ]
  },
  {
   "cell_type": "code",
   "execution_count": null,
   "metadata": {},
   "outputs": [
    {
     "name": "stdout",
     "output_type": "stream",
     "text": [
      "15 30 0\n"
     ]
    }
   ],
   "source": [
    "def sum(*myparams):\n",
    "    sum = 0\n",
    "    for arg in myparams:\n",
    "        sum += arg\n",
    "\n",
    "    return sum\n",
    "\n",
    "sum1 = sum(1, 2, 3, 4, 5)\n",
    "sum2 = sum(10, 20)\n",
    "sum3 = sum()\n",
    "\n",
    "print(sum1, sum2, sum3)  "
   ]
  },
  {
   "attachments": {},
   "cell_type": "markdown",
   "metadata": {},
   "source": [
    "## Keyword Argumente über **"
   ]
  },
  {
   "cell_type": "code",
   "execution_count": null,
   "metadata": {},
   "outputs": [
    {
     "name": "stdout",
     "output_type": "stream",
     "text": [
      "Name: Peter, Alter: 25\n",
      "Name: Hilde, Alter: 31\n",
      "Name: Bruno, Alter: 45\n"
     ]
    }
   ],
   "source": [
    "def format_output(**names):\n",
    "    for name, age in names.items():\n",
    "        print(\"Name: \" + name + \", Alter: \" + str(age))\n",
    "\n",
    "format_output(Peter=25, Hilde=31, Bruno=45)"
   ]
  },
  {
   "cell_type": "markdown",
   "metadata": {},
   "source": [
    "# Funktionale Konstrukte"
   ]
  },
  {
   "cell_type": "markdown",
   "metadata": {},
   "source": [
    "## Lambdas"
   ]
  },
  {
   "cell_type": "code",
   "execution_count": null,
   "metadata": {},
   "outputs": [
    {
     "name": "stdout",
     "output_type": "stream",
     "text": [
      "7\n",
      "7\n",
      "7\n",
      "7\n"
     ]
    }
   ],
   "source": [
    "sum = lambda a, b: a + b\n",
    "\n",
    "print(sum(2, 5))\n",
    "print(sum(4, 3))  \n",
    "\n",
    "\n",
    "def sum(a, b):\n",
    "    return a + b\n",
    "\n",
    "print(sum(2, 5))\n",
    "print(sum(4, 3))  "
   ]
  },
  {
   "cell_type": "markdown",
   "metadata": {},
   "source": [
    "## Map, Filter, Reduce"
   ]
  },
  {
   "cell_type": "code",
   "execution_count": null,
   "metadata": {},
   "outputs": [
    {
     "ename": "TypeError",
     "evalue": "'list' object is not callable",
     "output_type": "error",
     "traceback": [
      "\u001b[1;31m---------------------------------------------------------------------------\u001b[0m\n",
      "\u001b[1;31mTypeError\u001b[0m                                 Traceback (most recent call last)\n",
      "\u001b[1;32m<ipython-input-41-9cdd6f19d7a1>\u001b[0m in \u001b[0;36m<module>\u001b[1;34m\u001b[0m\n",
      "\u001b[0;32m      4\u001b[0m \u001b[1;33m\u001b[0m\u001b[0m\n",
      "\u001b[0;32m      5\u001b[0m \u001b[0msquared\u001b[0m \u001b[1;33m=\u001b[0m \u001b[0mmap\u001b[0m\u001b[1;33m(\u001b[0m\u001b[1;32mlambda\u001b[0m \u001b[0mn\u001b[0m\u001b[1;33m:\u001b[0m \u001b[0mn\u001b[0m\u001b[1;33m*\u001b[0m\u001b[0mn\u001b[0m\u001b[1;33m,\u001b[0m \u001b[0mdata\u001b[0m\u001b[1;33m)\u001b[0m\u001b[1;33m\u001b[0m\u001b[1;33m\u001b[0m\u001b[0m\n",
      "\u001b[1;32m----> 6\u001b[1;33m \u001b[0mprint\u001b[0m\u001b[1;33m(\u001b[0m\u001b[0mlist\u001b[0m\u001b[1;33m(\u001b[0m\u001b[0msquared\u001b[0m\u001b[1;33m)\u001b[0m\u001b[1;33m)\u001b[0m\u001b[1;33m\u001b[0m\u001b[1;33m\u001b[0m\u001b[0m\n",
      "\u001b[0m\u001b[0;32m      7\u001b[0m \u001b[1;33m\u001b[0m\u001b[0m\n",
      "\u001b[0;32m      8\u001b[0m \u001b[0meven\u001b[0m \u001b[1;33m=\u001b[0m \u001b[0mfilter\u001b[0m\u001b[1;33m(\u001b[0m\u001b[1;32mlambda\u001b[0m \u001b[0mn\u001b[0m\u001b[1;33m:\u001b[0m \u001b[0mn\u001b[0m \u001b[1;33m%\u001b[0m \u001b[1;36m2\u001b[0m \u001b[1;33m==\u001b[0m \u001b[1;36m0\u001b[0m\u001b[1;33m,\u001b[0m \u001b[0mdata\u001b[0m\u001b[1;33m)\u001b[0m\u001b[1;33m\u001b[0m\u001b[1;33m\u001b[0m\u001b[0m\n",
      "\n",
      "\u001b[1;31mTypeError\u001b[0m: 'list' object is not callable"
     ]
    }
   ],
   "source": [
    "from functools import reduce\n",
    "\n",
    "data = [1, 2, 3, 4, 5, 6]\n",
    "\n",
    "squared = map(lambda n: n*n, data)\n",
    "print(list(squared))\n",
    "\n",
    "even = filter(lambda n: n % 2 == 0, data)\n",
    "print(list(even))\n",
    "\n",
    "sum = reduce(lambda a, b: a+b, data)\n",
    "print(sum)"
   ]
  },
  {
   "cell_type": "markdown",
   "metadata": {},
   "source": [
    "# Type Hinting"
   ]
  },
  {
   "cell_type": "code",
   "execution_count": null,
   "metadata": {},
   "outputs": [
    {
     "name": "stdout",
     "output_type": "stream",
     "text": [
      "hello world!\n"
     ]
    }
   ],
   "source": [
    "def create_hello(name: str) -> str:\n",
    "    hello: str = \"hello \" + name + \"!\"\n",
    "    return hello\n",
    "\n",
    "print(create_hello(\"world\"))"
   ]
  },
  {
   "cell_type": "markdown",
   "metadata": {},
   "source": [
    "## Type Hinting für zusammengesetzte Datenstrukturen"
   ]
  },
  {
   "cell_type": "code",
   "execution_count": null,
   "metadata": {},
   "outputs": [],
   "source": [
    "names: list = [\"Guido\", \"Jukka\", \"Ivan\"]\n",
    "version: tuple = (3, 7, 1)\n",
    "options: dict = {\"centered\": False, \"capitalize\": True}"
   ]
  },
  {
   "cell_type": "code",
   "execution_count": null,
   "metadata": {},
   "outputs": [],
   "source": [
    "from typing import Dict, List, Tuple\n",
    "\n",
    "names: List[str] = [\"Guido\", \"Jukka\", \"Ivan\"]\n",
    "version: Tuple[int, int, int] = (3, 7, 1)\n",
    "options: Dict[str, bool] = {\"centered\": False, \"capitalize\": True}    "
   ]
  },
  {
   "cell_type": "markdown",
   "metadata": {},
   "source": [
    "# String Formatierung"
   ]
  },
  {
   "cell_type": "code",
   "execution_count": null,
   "metadata": {},
   "outputs": [
    {
     "name": "stdout",
     "output_type": "stream",
     "text": [
      "Name: Peter, Alter: 42\n"
     ]
    }
   ],
   "source": [
    "template = \"Name: {}, Alter: {}\"\n",
    "print(template.format(\"Peter\", 42)) "
   ]
  },
  {
   "cell_type": "code",
   "execution_count": null,
   "metadata": {},
   "outputs": [
    {
     "name": "stdout",
     "output_type": "stream",
     "text": [
      "Kosten: €   159.99\n"
     ]
    }
   ],
   "source": [
    "res = \"Kosten: € {:> 8.2f}\".format(159.9868)\n",
    "print(res) "
   ]
  }
 ],
 "metadata": {
  "kernelspec": {
   "display_name": "Python 3",
   "language": "python",
   "name": "python3"
  },
  "language_info": {
   "codemirror_mode": {
    "name": "ipython",
    "version": 3
   },
   "file_extension": ".py",
   "mimetype": "text/x-python",
   "name": "python",
   "nbconvert_exporter": "python",
   "pygments_lexer": "ipython3",
   "version": "3.8.3"
  }
 },
 "nbformat": 4,
 "nbformat_minor": 4
}
